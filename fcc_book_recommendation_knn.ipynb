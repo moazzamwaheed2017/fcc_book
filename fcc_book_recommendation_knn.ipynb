{
  "cells": [
    {
      "cell_type": "markdown",
      "metadata": {
        "id": "uGd4NYQX1Rf_"
      },
      "source": [
        "*Note: You are currently reading this using Google Colaboratory which is a cloud-hosted version of Jupyter Notebook. This is a document containing both text cells for documentation and runnable code cells. If you are unfamiliar with Jupyter Notebook, watch this 3-minute introduction before starting this challenge: https://www.youtube.com/watch?v=inN8seMm7UI*\n",
        "\n",
        "---\n",
        "\n",
        "In this challenge, you will create a book recommendation algorithm using **K-Nearest Neighbors**.\n",
        "\n",
        "You will use the [Book-Crossings dataset](http://www2.informatik.uni-freiburg.de/~cziegler/BX/). This dataset contains 1.1 million ratings (scale of 1-10) of 270,000 books by 90,000 users. \n",
        "\n",
        "After importing and cleaning the data, use `NearestNeighbors` from `sklearn.neighbors` to develop a model that shows books that are similar to a given book. The Nearest Neighbors algorithm measures distance to determine the “closeness” of instances.\n",
        "\n",
        "Create a function named `get_recommends` that takes a book title (from the dataset) as an argument and returns a list of 5 similar books with their distances from the book argument.\n",
        "\n",
        "This code:\n",
        "\n",
        "`get_recommends(\"The Queen of the Damned (Vampire Chronicles (Paperback))\")`\n",
        "\n",
        "should return:\n",
        "\n",
        "```\n",
        "[\n",
        "  'The Queen of the Damned (Vampire Chronicles (Paperback))',\n",
        "  [\n",
        "    ['Catch 22', 0.793983519077301], \n",
        "    ['The Witching Hour (Lives of the Mayfair Witches)', 0.7448656558990479], \n",
        "    ['Interview with the Vampire', 0.7345068454742432],\n",
        "    ['The Tale of the Body Thief (Vampire Chronicles (Paperback))', 0.5376338362693787],\n",
        "    ['The Vampire Lestat (Vampire Chronicles, Book II)', 0.5178412199020386]\n",
        "  ]\n",
        "]\n",
        "```\n",
        "\n",
        "Notice that the data returned from `get_recommends()` is a list. The first element in the list is the book title passed in to the function. The second element in the list is a list of five more lists. Each of the five lists contains a recommended book and the distance from the recommended book to the book passed in to the function.\n",
        "\n",
        "If you graph the dataset (optional), you will notice that most books are not rated frequently. To ensure statistical significance, remove from the dataset users with less than 200 ratings and books with less than 100 ratings.\n",
        "\n",
        "The first three cells import libraries you may need and the data to use. The final cell is for testing. Write all your code in between those cells."
      ]
    },
    {
      "cell_type": "code",
      "execution_count": 15,
      "metadata": {
        "id": "Y1onB6kUvo4Z"
      },
      "outputs": [],
      "source": [
        "# import libraries (you may add additional imports but you may not have to)\n",
        "import numpy as np\n",
        "import pandas as pd\n",
        "from scipy.sparse import csr_matrix\n",
        "from sklearn.neighbors import NearestNeighbors\n",
        "import matplotlib.pyplot as plt"
      ]
    },
    {
      "cell_type": "code",
      "execution_count": 16,
      "metadata": {
        "id": "iAQGqqO_vo4d",
        "colab": {
          "base_uri": "https://localhost:8080/"
        },
        "outputId": "fd52aefd-7f07-404d-fe3a-93cd3d1034c3"
      },
      "outputs": [
        {
          "output_type": "stream",
          "name": "stdout",
          "text": [
            "--2023-01-17 19:38:30--  https://cdn.freecodecamp.org/project-data/books/book-crossings.zip\n",
            "Resolving cdn.freecodecamp.org (cdn.freecodecamp.org)... 104.26.3.33, 104.26.2.33, 172.67.70.149, ...\n",
            "Connecting to cdn.freecodecamp.org (cdn.freecodecamp.org)|104.26.3.33|:443... connected.\n",
            "HTTP request sent, awaiting response... 200 OK\n",
            "Length: 26085508 (25M) [application/zip]\n",
            "Saving to: ‘book-crossings.zip.1’\n",
            "\n",
            "book-crossings.zip. 100%[===================>]  24.88M   152MB/s    in 0.2s    \n",
            "\n",
            "2023-01-17 19:38:30 (152 MB/s) - ‘book-crossings.zip.1’ saved [26085508/26085508]\n",
            "\n",
            "Archive:  book-crossings.zip\n",
            "replace BX-Book-Ratings.csv? [y]es, [n]o, [A]ll, [N]one, [r]ename: n\n",
            "replace BX-Books.csv? [y]es, [n]o, [A]ll, [N]one, [r]ename: n\n",
            "replace BX-Users.csv? [y]es, [n]o, [A]ll, [N]one, [r]ename: n\n"
          ]
        }
      ],
      "source": [
        "# get data files\n",
        "!wget https://cdn.freecodecamp.org/project-data/books/book-crossings.zip\n",
        "\n",
        "!unzip book-crossings.zip\n",
        "\n",
        "books_filename = 'BX-Books.csv'\n",
        "ratings_filename = 'BX-Book-Ratings.csv'"
      ]
    },
    {
      "cell_type": "code",
      "execution_count": 17,
      "metadata": {
        "id": "NClILWOiEd6Q"
      },
      "outputs": [],
      "source": [
        "# import csv data into dataframes\n",
        "df_books = pd.read_csv(\n",
        "    books_filename,\n",
        "    encoding = \"ISO-8859-1\",\n",
        "    sep=\";\",\n",
        "    header=0,\n",
        "    names=['isbn', 'title', 'author'],\n",
        "    usecols=['isbn', 'title', 'author'],\n",
        "    dtype={'isbn': 'str', 'title': 'str', 'author': 'str'})\n",
        "\n",
        "df_ratings = pd.read_csv(\n",
        "    ratings_filename,\n",
        "    encoding = \"ISO-8859-1\",\n",
        "    sep=\";\",\n",
        "    header=0,\n",
        "    names=['user', 'isbn', 'rating'],\n",
        "    usecols=['user', 'isbn', 'rating'],\n",
        "    dtype={'user': 'int32', 'isbn': 'str', 'rating': 'float32'})"
      ]
    },
    {
      "cell_type": "code",
      "execution_count": 18,
      "metadata": {
        "id": "xAcXjkCFCh0A"
      },
      "outputs": [],
      "source": [
        "# add your code here - consider creating a new cell for each section of code\n",
        "\n",
        "#print(df_ratings)\n",
        "\n",
        "#plotting the graphs\n",
        "#plt.rc(\"font\", size=15)\n",
        "#df_ratings.value_counts(sort=False).plot(kind='bar')\n",
        "#plt.title('Rating Distribution\\n')\n",
        "#plt.xlabel('Rating')\n",
        "#plt.ylabel('Count')\n",
        "#plt.savefig('system1.png', bbox_inches='tight')\n",
        "#plt.show()"
      ]
    },
    {
      "cell_type": "code",
      "source": [
        "# Merging the 2 datasets through the isbn\n",
        "df_all = pd.merge(df_ratings,df_books,on='isbn')"
      ],
      "metadata": {
        "id": "N3PCqtDHly5B"
      },
      "execution_count": 19,
      "outputs": []
    },
    {
      "cell_type": "code",
      "source": [
        "print(df_all)"
      ],
      "metadata": {
        "colab": {
          "base_uri": "https://localhost:8080/"
        },
        "id": "yG2o1ejAoYOb",
        "outputId": "215b0599-e9da-4a27-f82b-7b9282be5b86"
      },
      "execution_count": 20,
      "outputs": [
        {
          "output_type": "stream",
          "name": "stdout",
          "text": [
            "           user        isbn  rating  \\\n",
            "0        276725  034545104X     0.0   \n",
            "1          2313  034545104X     5.0   \n",
            "2          6543  034545104X     0.0   \n",
            "3          8680  034545104X     5.0   \n",
            "4         10314  034545104X     9.0   \n",
            "...         ...         ...     ...   \n",
            "1031170  276688  0517145553     0.0   \n",
            "1031171  276688  1575660792     7.0   \n",
            "1031172  276690  0590907301     0.0   \n",
            "1031173  276704  0679752714     0.0   \n",
            "1031174  276704  0806917695     5.0   \n",
            "\n",
            "                                                     title           author  \n",
            "0                                     Flesh Tones: A Novel       M. J. Rose  \n",
            "1                                     Flesh Tones: A Novel       M. J. Rose  \n",
            "2                                     Flesh Tones: A Novel       M. J. Rose  \n",
            "3                                     Flesh Tones: A Novel       M. J. Rose  \n",
            "4                                     Flesh Tones: A Novel       M. J. Rose  \n",
            "...                                                    ...              ...  \n",
            "1031170                                    Mostly Harmless    Douglas Adams  \n",
            "1031171                                        Gray Matter  Shirley Kennett  \n",
            "1031172  Triplet Trouble and the Class Trip (Triplet Tr...     Debbie Dadey  \n",
            "1031173  A Desert of Pure Feeling (Vintage Contemporaries)   Judith Freeman  \n",
            "1031174  Perplexing Lateral Thinking Puzzles: Scholasti...      Paul Sloane  \n",
            "\n",
            "[1031175 rows x 5 columns]\n"
          ]
        }
      ]
    },
    {
      "cell_type": "markdown",
      "source": [
        "Cleaning up the datasets"
      ],
      "metadata": {
        "id": "XG7Wns28R0Kn"
      }
    },
    {
      "cell_type": "code",
      "source": [
        "# Get list of users with 200 ratings or more\n",
        "user_ratings_count = (df_ratings.groupby(by = ['user'])['rating'].count().reset_index().rename(columns = {'rating': 'totalRatings'})[['user', 'totalRatings']])\n",
        "keep_users = user_ratings_count.query('totalRatings > 199').user.tolist()"
      ],
      "metadata": {
        "id": "bmfJFJmfGveP"
      },
      "execution_count": 21,
      "outputs": []
    },
    {
      "cell_type": "code",
      "source": [
        "# Get list of books with 100 ratings or more\n",
        "book_ratings_count = (df_all.groupby(by = ['title'])['rating'].count().reset_index().rename(columns = {'rating': 'totalRatings'})[['title', 'totalRatings']])\n",
        "keep_books = book_ratings_count.query('totalRatings > 99').title.tolist()"
      ],
      "metadata": {
        "id": "8r9rPxLIftUO"
      },
      "execution_count": 22,
      "outputs": []
    },
    {
      "cell_type": "code",
      "source": [
        "# Remove the books with less than 100 ratings and users with less than 200 ratings\n",
        "df_all = df_all[df_all['title'].isin(keep_books)]\n",
        "df_all = df_all[df_all['user'].isin(keep_users)]"
      ],
      "metadata": {
        "id": "4AvENPN4qesR"
      },
      "execution_count": 23,
      "outputs": []
    },
    {
      "cell_type": "code",
      "source": [
        "print(df_all)"
      ],
      "metadata": {
        "colab": {
          "base_uri": "https://localhost:8080/"
        },
        "id": "FWM-NdKCrmcp",
        "outputId": "5ef871e1-7a4c-4f2b-ceeb-87cea603a341"
      },
      "execution_count": 24,
      "outputs": [
        {
          "output_type": "stream",
          "name": "stdout",
          "text": [
            "           user        isbn  rating                   title           author\n",
            "63       278418  0446520802     0.0            The Notebook  Nicholas Sparks\n",
            "65         3363  0446520802     0.0            The Notebook  Nicholas Sparks\n",
            "66         7158  0446520802    10.0            The Notebook  Nicholas Sparks\n",
            "69        11676  0446520802    10.0            The Notebook  Nicholas Sparks\n",
            "74        23768  0446520802     6.0            The Notebook  Nicholas Sparks\n",
            "...         ...         ...     ...                     ...              ...\n",
            "1028816  271284  0440910927     0.0           The Rainmaker     John Grisham\n",
            "1029109  271705  B0001PIOX4     0.0          Fahrenheit 451     Ray Bradbury\n",
            "1030402  274808  0449701913     0.0              Homecoming    Cynthia Voigt\n",
            "1030863  275970  0865714215     0.0          Stormy Weather      Guy Dauncey\n",
            "1030907  275970  1586210661     9.0  Me Talk Pretty One Day    David Sedaris\n",
            "\n",
            "[68365 rows x 5 columns]\n"
          ]
        }
      ]
    },
    {
      "cell_type": "code",
      "source": [
        "# Turning the table into something that can be used by the model\n",
        "from scipy.sparse import csr_matrix\n",
        "\n",
        "book_features = df_all.pivot_table(index='title',columns='user',values='rating').fillna(0)\n",
        "book_features_matrix = csr_matrix(book_features.values)"
      ],
      "metadata": {
        "id": "TKdsv07Z2Y-D"
      },
      "execution_count": 25,
      "outputs": []
    },
    {
      "cell_type": "code",
      "source": [
        "# Creat KNN model\n",
        "model = NearestNeighbors(metric = 'cosine', n_neighbors=5, algorithm='auto')\n",
        "model.fit(book_features_matrix)"
      ],
      "metadata": {
        "colab": {
          "base_uri": "https://localhost:8080/"
        },
        "id": "UdQu7blJut_b",
        "outputId": "6f935376-2b88-42ef-e56f-88a19693ac5b"
      },
      "execution_count": 26,
      "outputs": [
        {
          "output_type": "execute_result",
          "data": {
            "text/plain": [
              "NearestNeighbors(metric='cosine')"
            ]
          },
          "metadata": {},
          "execution_count": 26
        }
      ]
    },
    {
      "cell_type": "code",
      "execution_count": 27,
      "metadata": {
        "id": "f5ZUd-L1SQz7"
      },
      "outputs": [],
      "source": [
        "# function to return recommended books - this will be tested\n",
        "def get_recommends(book = \"\"):\n",
        "\n",
        "  for index in range(len(book_features)):\n",
        "      if book_features.index[index] == book:\n",
        "          break\n",
        "\n",
        "  recommended_books = [book, []]\n",
        "\n",
        "  distances, indices = model.kneighbors(book_features.iloc[index,:].values.reshape(1, -1))\n",
        "  \n",
        "  for i in range(1, len(distances.flatten())):\n",
        "    recommended_books[1].insert(0, [book_features.index[indices.flatten()[i]], distances.flatten()[i]])\n",
        "  return recommended_books"
      ]
    },
    {
      "cell_type": "markdown",
      "metadata": {
        "id": "eat9A2TKawHU"
      },
      "source": [
        "Use the cell below to test your function. The `test_book_recommendation()` function will inform you if you passed the challenge or need to keep trying."
      ]
    },
    {
      "cell_type": "code",
      "execution_count": 28,
      "metadata": {
        "id": "jd2SLCh8oxMh",
        "colab": {
          "base_uri": "https://localhost:8080/"
        },
        "outputId": "858cbe3a-52c5-4431-ec9b-81ab63fab5e3"
      },
      "outputs": [
        {
          "output_type": "stream",
          "name": "stdout",
          "text": [
            "[\"Where the Heart Is (Oprah's Book Club (Paperback))\", [['The Weight of Water', 0.77085835], ['I Know This Much Is True', 0.7529293], ['The Lovely Bones: A Novel', 0.7234864], ['Blue Diary', 0.71828747]]]\n",
            "You passed the challenge!\n"
          ]
        }
      ],
      "source": [
        "books = get_recommends(\"Where the Heart Is (Oprah's Book Club (Paperback))\")\n",
        "print(books)\n",
        "\n",
        "def test_book_recommendation():\n",
        "  test_pass = True\n",
        "  recommends = get_recommends(\"Where the Heart Is (Oprah's Book Club (Paperback))\")\n",
        "  if recommends[0] != \"Where the Heart Is (Oprah's Book Club (Paperback))\":\n",
        "    test_pass = False\n",
        "  recommended_books = [\"I'll Be Seeing You\", 'The Weight of Water', 'The Surgeon', 'I Know This Much Is True']\n",
        "  recommended_books_dist = [0.8, 0.77, 0.77, 0.77]\n",
        "  for i in range(2): \n",
        "    if recommends[1][i][0] not in recommended_books:\n",
        "      test_pass = False\n",
        "    if abs(recommends[1][i][1] - recommended_books_dist[i]) >= 0.05:\n",
        "      test_pass = False\n",
        "  if test_pass:\n",
        "    print(\"You passed the challenge!\")\n",
        "  else:\n",
        "    print(\"You haven't passed yet. Keep trying!\")\n",
        "\n",
        "test_book_recommendation()"
      ]
    }
  ],
  "metadata": {
    "colab": {
      "provenance": []
    },
    "kernelspec": {
      "display_name": "Python 3",
      "language": "python",
      "name": "python3"
    },
    "language_info": {
      "codemirror_mode": {
        "name": "ipython",
        "version": 3
      },
      "file_extension": ".py",
      "mimetype": "text/x-python",
      "name": "python",
      "nbconvert_exporter": "python",
      "pygments_lexer": "ipython3",
      "version": "3.6.5"
    }
  },
  "nbformat": 4,
  "nbformat_minor": 0
}